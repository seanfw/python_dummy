{
 "cells": [
  {
   "cell_type": "code",
   "execution_count": 1,
   "metadata": {},
   "outputs": [],
   "source": [
    "import pandas as pd\n",
    "import numpy as np\n",
    "import scipy as sp\n",
    "from scipy import io\n",
    "from sklearn.metrics import pairwise_distances\n",
    "\n",
    "import sys\n",
    "import mapalign\n",
    "from mapalign import dist"
   ]
  },
  {
   "cell_type": "code",
   "execution_count": 39,
   "metadata": {},
   "outputs": [],
   "source": [
    "# def create_macaque_conn_mat(mat_name):\n",
    "    \n",
    "    # Load connectivity matrix\n",
    "FLNmat_contents= io.loadmat('FLN.mat')\n",
    "FLN = FLNmat_contents['FLNmat']\n",
    "FLN.shape\n",
    "AreasListmat_contents= io.loadmat('FLNAreasList.mat')\n",
    "AreasList = AreasListmat_contents['AreasList']\n",
    "AreasList\n",
    "\n",
    "m = np.array(FLN)\n",
    "\n",
    "# transpose and concatenate to include bidirectional connectivity:\n",
    "m = np.hstack((m,m.T))\n",
    "nam = AreasList\n",
    "\n",
    "# Calculate pairwise Euclidean distance:\n",
    "aff = dist.compute_affinity(m)\n",
    "\n",
    "np.save('kennedy_fln_sym_affinity.npy', aff)\n",
    "np.save('kennedy_fln_sym_names.npy', nam)\n"
   ]
  },
  {
   "cell_type": "code",
   "execution_count": 70,
   "metadata": {},
   "outputs": [],
   "source": [
    "from mapalign import embed\n",
    "    \n",
    "def embed_macaque(mat_name):\n",
    "    \n",
    "    aff = np.load('kennedy_%s_sym_affinity.npy' % mat_name)\n",
    "    print np.shape(aff)\n",
    "    emb, res = embed.compute_diffusion_map(aff, alpha = 0.5,return_result=True)\n",
    "    np.save('macaque_%s_emb.npy' % mat_name, emb)\n",
    "    np.save('macaque_%s_res.npy' % mat_name, res)\n",
    "    print emb\n",
    "    print res\n",
    "\n"
   ]
  },
  {
   "cell_type": "code",
   "execution_count": 71,
   "metadata": {},
   "outputs": [
    {
     "name": "stdout",
     "output_type": "stream",
     "text": [
      "(29, 29)\n",
      "[[ -0.43180636   0.26353382]\n",
      " [ -0.43018252   0.26129988]\n",
      " [ -0.42844447   0.2594391 ]\n",
      " [ -0.4618075    0.29790407]\n",
      " [ -0.43736853   0.26921819]\n",
      " [ -0.42874515   0.26165774]\n",
      " [ -0.43393892   0.26464543]\n",
      " [ -0.4266774    0.25659679]\n",
      " [ -0.43434479   0.26649242]\n",
      " [ -0.43740004   0.26861419]\n",
      " [ -0.44611221   0.28052062]\n",
      " [ -0.46407153   0.30151696]\n",
      " [ -0.42721152   0.25805555]\n",
      " [ -0.38954182   0.16999666]\n",
      " [ -0.44716213   0.28089696]\n",
      " [ -0.44087263   0.27361457]\n",
      " [ -0.43192966   0.26330212]\n",
      " [ -0.43427898   0.26619383]\n",
      " [ -0.28894632   0.10103756]\n",
      " [ -0.44604128   0.27973044]\n",
      " [ -0.4291622    0.26011573]\n",
      " [ -0.44542875   0.27967643]\n",
      " [ -0.46146391   0.2987424 ]\n",
      " [ -0.43597552   0.2682204 ]\n",
      " [ -0.28278644   0.20853264]\n",
      " [ -0.39205869   0.23401194]\n",
      " [ -0.90295728  -8.954469  ]\n",
      " [ 16.49659176  -0.23407872]\n",
      " [ -0.31640762  -0.55293366]]\n",
      "{'n_components_auto': 2, 'diffusion_time': array([ 0.01768671,  0.32648949,  2.31213557,  2.44659398]), 'vectors': array([[-0.18569534,  0.0259089 , -0.02904765, -0.0312188 , -0.02109409],\n",
      "       [-0.18569534,  0.02581147, -0.02880142, -0.02306166, -0.02186298],\n",
      "       [-0.18569534,  0.02570718, -0.02859631, -0.02394334, -0.02459197],\n",
      "       [-0.18569534,  0.02770901, -0.03283606, -0.085623  , -0.18825881],\n",
      "       [-0.18569534,  0.02624264, -0.0296742 , -0.02846675, -0.03183371],\n",
      "       [-0.18569534,  0.02572523, -0.02884086, -0.0032446 , -0.02013027],\n",
      "       [-0.18569534,  0.02603686, -0.02917018, -0.02394759, -0.02417423],\n",
      "       [-0.18569534,  0.02560116, -0.02828303, -0.02167028, -0.02110292],\n",
      "       [-0.18569534,  0.02606121, -0.02937376, -0.03290562, -0.04324198],\n",
      "       [-0.18569534,  0.02624453, -0.02960763, -0.0353222 , -0.06362704],\n",
      "       [-0.18569534,  0.02676727, -0.03092   , -0.04422544, -0.06448934],\n",
      "       [-0.18569534,  0.02784485, -0.03323429, -0.09372346, -0.25010797],\n",
      "       [-0.18569534,  0.02563321, -0.02844381, -0.02302523, -0.02524805],\n",
      "       [-0.18569534,  0.02337298, -0.01873765,  0.0174632 , -0.02544246],\n",
      "       [-0.18569534,  0.02683027, -0.03096148, -0.03890937, -0.05339757],\n",
      "       [-0.18569534,  0.02645289, -0.03015879, -0.03212902, -0.03710238],\n",
      "       [-0.18569534,  0.0259163 , -0.02902211, -0.02418469, -0.02357156],\n",
      "       [-0.18569534,  0.02605726, -0.02934085, -0.03072759, -0.03710183],\n",
      "       [-0.18569534,  0.01733713, -0.01113672,  0.07127029, -0.02280721],\n",
      "       [-0.18569534,  0.02676301, -0.0308329 , -0.04663607,  0.08358119],\n",
      "       [-0.18569534,  0.02575025, -0.02867089, -0.0221872 , -0.02034232],\n",
      "       [-0.18569534,  0.02672626, -0.03082695, -0.0445761 ,  0.05161785],\n",
      "       [-0.18569534,  0.02768839, -0.03292847, -0.10354369,  0.92691291],\n",
      "       [-0.18569534,  0.02615906, -0.02956422, -0.03611936,  0.08442397],\n",
      "       [-0.18569534,  0.01696753, -0.02298522,  0.02179973, -0.02439674],\n",
      "       [-0.18569534,  0.02352399, -0.02579364,  0.0418194 , -0.01166595],\n",
      "       [-0.18569534,  0.05417852,  0.98699391, -0.09673247, -0.00195705],\n",
      "       [-0.18569534, -0.98981538,  0.025801  , -0.01143549,  0.00111735],\n",
      "       [-0.18569534,  0.01898484,  0.06094634,  0.96812837,  0.05376861]]), 'n_components': 2, 'lambdas': array([ 3.09486015,  1.6847147 ,  0.27926314,  0.20502866])}\n"
     ]
    }
   ],
   "source": [
    "embed_macaque('fln')"
   ]
  },
  {
   "cell_type": "code",
   "execution_count": 69,
   "metadata": {},
   "outputs": [],
   "source": [
    "# save in matlab format\n",
    "io.savemat('embedding.mat', {'emb':emb})\n"
   ]
  },
  {
   "cell_type": "code",
   "execution_count": null,
   "metadata": {
    "collapsed": true
   },
   "outputs": [],
   "source": []
  }
 ],
 "metadata": {
  "kernelspec": {
   "display_name": "Python 2",
   "language": "python",
   "name": "python2"
  },
  "language_info": {
   "codemirror_mode": {
    "name": "ipython",
    "version": 2
   },
   "file_extension": ".py",
   "mimetype": "text/x-python",
   "name": "python",
   "nbconvert_exporter": "python",
   "pygments_lexer": "ipython2",
   "version": "2.7.13"
  }
 },
 "nbformat": 4,
 "nbformat_minor": 2
}
